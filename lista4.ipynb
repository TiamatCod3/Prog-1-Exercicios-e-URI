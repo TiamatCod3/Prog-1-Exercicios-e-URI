{
  "nbformat": 4,
  "nbformat_minor": 0,
  "metadata": {
    "colab": {
      "name": "lista4.ipynb",
      "provenance": [],
      "authorship_tag": "ABX9TyNPNifpQQMAIFyGLRDVDQr4",
      "include_colab_link": true
    },
    "kernelspec": {
      "name": "python3",
      "display_name": "Python 3"
    }
  },
  "cells": [
    {
      "cell_type": "markdown",
      "metadata": {
        "id": "view-in-github",
        "colab_type": "text"
      },
      "source": [
        "<a href=\"https://colab.research.google.com/github/TiamatCod3/Prog-1-Exercicios-e-URI/blob/master/lista4.ipynb\" target=\"_parent\"><img src=\"https://colab.research.google.com/assets/colab-badge.svg\" alt=\"Open In Colab\"/></a>"
      ]
    },
    {
      "cell_type": "markdown",
      "metadata": {
        "id": "J2aGokxgAeZS"
      },
      "source": [
        "| # |      |   | PROBLEMA                     | SUBMISSÃO |  ACEITO  | NÍVEL | PESO |\n",
        "|:-:|:----:|:-:|------------------------------|:---------:|:--------:|:-----:|:----:|\n",
        "| 1 | 1029 |   | [Fibonacci, Quantas Chamadas?](#scrollTo=6AZM3G7HFQ5t) |     -     |     -    |   4   |  100 |\n",
        "| 2 | 1192 |   | [O jogo Matemático de Paula](#scrollTo=w7Mvzr3zFQ22)   |     -     |     -    |   2   |  100 |\n",
        "| 3 | 1256 |   | [Tabelas Hash](#scrollTo=Y65zL8cAFQ0F)                  |     -     |     -    |   3   |  100 |\n",
        "| 4 | 1366 |   | [Jogo de Varetas](#scrollTo=6tzCQO_RGO5W)               |     -     |     -    |   2   |  100 |\n",
        "| 5 | 1374 |   | [Eletricidade](#scrollTo=5Q4AljKeFQul)                 |     -     |     -    |   6   |  100 |\n",
        "| 6 | 1407 |   | [Loteria de Fim de Semana](#scrollTo=ccVMHgpeZM5B)     |     -     |     -    |   4   |  100 |\n",
        "| 7 | 1428 | # | [Procurando Nessy](#scrollTo=ccVMHgpeZM5B)             |     02    | 20493315 |   1   |  100 |"
      ]
    },
    {
      "cell_type": "code",
      "metadata": {
        "id": "6AZM3G7HFQ5t"
      },
      "source": [
        "#1029 - \tFibonacci, Quantas Chamadas?"
      ],
      "execution_count": null,
      "outputs": []
    },
    {
      "cell_type": "markdown",
      "metadata": {
        "id": "R59hATX6Gmp_"
      },
      "source": [
        "[Voltar](#scrollTo=J2aGokxgAeZS)"
      ]
    },
    {
      "cell_type": "code",
      "metadata": {
        "id": "w7Mvzr3zFQ22"
      },
      "source": [
        "#1192\t\tO jogo Matemático de Paula"
      ],
      "execution_count": null,
      "outputs": []
    },
    {
      "cell_type": "markdown",
      "metadata": {
        "id": "9eO4thj0GoQX"
      },
      "source": [
        "[Voltar](#scrollTo=J2aGokxgAeZS)"
      ]
    },
    {
      "cell_type": "code",
      "metadata": {
        "id": "Y65zL8cAFQ0F"
      },
      "source": [
        "#1256\t\tTabelas Hash"
      ],
      "execution_count": null,
      "outputs": []
    },
    {
      "cell_type": "markdown",
      "metadata": {
        "id": "nQDYYj0fGoqv"
      },
      "source": [
        "[Voltar](#scrollTo=J2aGokxgAeZS)"
      ]
    },
    {
      "cell_type": "code",
      "metadata": {
        "id": "6tzCQO_RGO5W"
      },
      "source": [
        "#1366\t\tJogo de Varetas"
      ],
      "execution_count": null,
      "outputs": []
    },
    {
      "cell_type": "markdown",
      "metadata": {
        "id": "I-g_FBpWGpEp"
      },
      "source": [
        "[Voltar](#scrollTo=J2aGokxgAeZS)"
      ]
    },
    {
      "cell_type": "code",
      "metadata": {
        "id": "5Q4AljKeFQul"
      },
      "source": [
        "#1374\t\tEletricidade"
      ],
      "execution_count": null,
      "outputs": []
    },
    {
      "cell_type": "markdown",
      "metadata": {
        "id": "WOcjDskHGpVp"
      },
      "source": [
        "[Voltar](#scrollTo=J2aGokxgAeZS)"
      ]
    },
    {
      "cell_type": "code",
      "metadata": {
        "id": "pPMtc6gAFQrl"
      },
      "source": [
        "#1407\t\tLoteria de Fim de Semana"
      ],
      "execution_count": null,
      "outputs": []
    },
    {
      "cell_type": "markdown",
      "metadata": {
        "id": "MVjx52JJGpjn"
      },
      "source": [
        "[Voltar](#scrollTo=J2aGokxgAeZS)"
      ]
    },
    {
      "cell_type": "code",
      "metadata": {
        "id": "ccVMHgpeZM5B"
      },
      "source": [
        "#1428\n",
        "#Programa Principal\n",
        "casos = int(input())\n",
        "\n",
        "for i in range(casos):\n",
        "  n,m = map(int,input().split())\n",
        "  altura = ((n-2)//3)+int(((n-2)%3)>0)\n",
        "  largura = ((m-2)//3)+int(((m-2)%3)>0)\n",
        "  tamanho = altura * largura\n",
        "  print(tamanho)"
      ],
      "execution_count": null,
      "outputs": []
    },
    {
      "cell_type": "markdown",
      "metadata": {
        "id": "eF3ykNqwGp9_"
      },
      "source": [
        "[Voltar](#scrollTo=J2aGokxgAeZS)"
      ]
    }
  ]
}