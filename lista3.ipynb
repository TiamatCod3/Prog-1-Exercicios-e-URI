{
  "nbformat": 4,
  "nbformat_minor": 0,
  "metadata": {
    "colab": {
      "name": "lista3.ipynb",
      "provenance": [],
      "collapsed_sections": [],
      "authorship_tag": "ABX9TyPiwBwQcNTDtZOHbxaligoy",
      "include_colab_link": true
    },
    "kernelspec": {
      "name": "python3",
      "display_name": "Python 3"
    }
  },
  "cells": [
    {
      "cell_type": "markdown",
      "metadata": {
        "id": "view-in-github",
        "colab_type": "text"
      },
      "source": [
        "<a href=\"https://colab.research.google.com/github/TimatCod3/Prog-1---Exercicios-e-URI/blob/master/lista3.ipynb\" target=\"_parent\"><img src=\"https://colab.research.google.com/assets/colab-badge.svg\" alt=\"Open In Colab\"/></a>"
      ]
    },
    {
      "cell_type": "markdown",
      "metadata": {
        "id": "UITYYnQOoVPG"
      },
      "source": [
        "| # \t|      \t|   \t| PROBLEMA                \t| SUBMISSÃO \t| ACEITO \t| NÍVEL \t| PESO \t|\n",
        "|:-:\t|:----:\t|:-:\t|-------------------------\t|:---------:\t|:------:\t|:-----:\t|:----:\t|\n",
        "| 1 \t|[ 1168](https://www.urionlinejudge.com.br/judge/pt/problems/view/1168) \t|   \t| LED                     \t|     -     \t|    -   \t|   3   \t|  100 \t|\n",
        "| 2 \t| [1237](https://www.urionlinejudge.com.br/judge/pt/problems/view/1237) \t|   \t| Comparação de Substring \t|     -     \t|    -   \t|   6   \t|  100 \t|\n",
        "| 3 \t| [1238](https://www.urionlinejudge.com.br/judge/pt/problems/view/1238) \t|   \t| Combinador              \t|     -     \t|    -   \t|   3   \t|  100 \t|\n",
        "| 4 \t| [1507](https://www.urionlinejudge.com.br/judge/pt/problems/view/1507) \t|   \t| Subsequências           \t|     -     \t|    -   \t|   7   \t|  100 \t|\n",
        "| 5 \t| [1609](https://www.urionlinejudge.com.br/judge/pt/problems/view/1609) \t|   \t| Contando Carneirinhos   \t|     -     \t|    -   \t|   4   \t|  100 \t|\n",
        "| 6 \t| [1803](https://www.urionlinejudge.com.br/judge/pt/problems/view/1803) \t|   \t| Matring                 \t|     -     \t|    -   \t|   1   \t|  100 \t|"
      ]
    },
    {
      "cell_type": "code",
      "metadata": {
        "id": "jdFMEfwcoU8m"
      },
      "source": [
        "#1168\n",
        "def calculaLED(valor, painel):\n",
        "  totalLed=0\n",
        "  for i in range(len(painel)):\n",
        "    if painel[i][0] in valor:\n",
        "      totalLed += painel[i][1]*(valor.count(painel[i][0]))\n",
        "  return totalLed\n",
        "\n",
        "ocorrencias = [(\"1\", 2),(\"2\", 5), (\"3\", 5), (\"4\", 4), (\"5\", 5), (\"6\", 6), (\"7\", 3), (\"8\", 7), (\"9\", 6), (\"0\", 6)]\n",
        "\n",
        "casos = int(input())\n",
        "for i in range(casos):\n",
        "  numero = input()\n",
        "  leds = calculaLED(numero,ocorrencias)\n",
        "  print(f\"{leds} leds\")"
      ],
      "execution_count": null,
      "outputs": []
    },
    {
      "cell_type": "code",
      "metadata": {
        "id": "VeyCSRBjtBfr"
      },
      "source": [
        "#1237\n",
        "def comparaStrings(linhaA, linhaB):\n",
        "  if len(linhaB)<len(linhaA):\n",
        "    linhaA, linhaB = linhaB, linhaA \n",
        "  \n",
        "  tamanho = len(linhaA)\n",
        "  \n",
        "  for k in range(tamanho):\n",
        "    \n",
        "    for i in range(len(linhaA)- tamanho+1):\n",
        "      \n",
        "      if linhaA[i:i+tamanho] in linhaB:\n",
        "        return tamanho\n",
        "    tamanho -= 1               \n",
        "  return tamanho\n",
        " \n",
        "fraseA = str(input())\n",
        "fraseB = str(input())\n",
        " \n",
        "while str.isalpha(fraseA) and str.isalpha(fraseB):\n",
        "  fraseA = \"2fwhrwuieyrw78w78\"\n",
        "  fraseB = \"3412\"\n",
        "  \n",
        "  print(comparaStrings(fraseA, fraseB))\n",
        "  fraseA = str(input())\n",
        "  fraseB = str(input())"
      ],
      "execution_count": null,
      "outputs": []
    },
    {
      "cell_type": "code",
      "metadata": {
        "id": "IDzGu17TKIDC",
        "outputId": "b579ab5b-f6ac-4afc-ed98-b51e127df59e",
        "colab": {
          "base_uri": "https://localhost:8080/",
          "height": 68
        }
      },
      "source": [
        "#1237\n",
        "def comparaStrings(linhaA, linhaB):\n",
        "  if len(linhaB)<len(linhaA):\n",
        "    linhaA, linhaB = linhaB, linhaA \n",
        "  \n",
        "  tamanho = len(linhaA)\n",
        "  \n",
        "  for k in range(tamanho):\n",
        "    for i in range(len(linhaA)- tamanho+1):\n",
        "      \n",
        "      if linhaA[i:i+tamanho] in linhaB:\n",
        "        return tamanho\n",
        "    tamanho -= 1               \n",
        "  return tamanho\n",
        "\n",
        "\n",
        "temTestes = True\n",
        "\n",
        "while temTestes:\n",
        "  try:\n",
        "    fraseA = input()\n",
        "    fraseB = input()\n",
        "    print(comparaStrings(fraseA, fraseB))\n",
        "  \n",
        "  except EOFError:\n",
        "    temTestes=False\n",
        "    \n",
        "\n",
        "\n"
      ],
      "execution_count": null,
      "outputs": [
        {
          "output_type": "stream",
          "text": [
            "TWO\n",
            "FOUR\n",
            "1\n"
          ],
          "name": "stdout"
        }
      ]
    },
    {
      "cell_type": "code",
      "metadata": {
        "id": "tGBwAwhT8zLG"
      },
      "source": [
        " \n",
        "#1237\n",
        "def comparaStrings(linhaA, linhaB):\n",
        "  if len(linhaB)<len(linhaA):\n",
        "    linhaA, linhaB = linhaB, linhaA \n",
        "  \n",
        "  tamanho = len(linhaA)\n",
        " \n",
        "  for k in range(tamanho):\n",
        "    \n",
        "    for i in range(len(linhaA)- tamanho+1):\n",
        "      \n",
        "      if linhaA[i:i+tamanho] in linhaB:\n",
        "        return tamanho\n",
        "    tamanho -= 1               \n",
        "  return tamanho\n",
        " \n",
        "fraseA = str(input())\n",
        "fraseB = str(input())\n",
        "print(comparaString(fraseA,fraseB))"
      ],
      "execution_count": null,
      "outputs": []
    },
    {
      "cell_type": "code",
      "metadata": {
        "id": "6OAIELwTzypU",
        "outputId": "40f5da02-0ee6-419a-99c6-bf024aa94fa6",
        "colab": {
          "base_uri": "https://localhost:8080/",
          "height": 34
        }
      },
      "source": [
        "alfa = str.isalpha(\"flasdlj sdkjfsk\".replace(\" \", \"\"))\n",
        "print(alfa)"
      ],
      "execution_count": null,
      "outputs": [
        {
          "output_type": "stream",
          "text": [
            "True\n"
          ],
          "name": "stdout"
        }
      ]
    },
    {
      "cell_type": "code",
      "metadata": {
        "id": "UdfLHlaBRQEw"
      },
      "source": [
        "#1237\n",
        "def tamanhoSub(l, c, vs):\n",
        "\n",
        "  return tamanho\n",
        "\n",
        "def comparaStrings(linhaA, linhaB):\n",
        "  \n",
        "  if len(linhaA)<len(linhaB):\n",
        "    linhaA, linhaB = linhaB, linhaA \n",
        "  for i in range(len(linhaA)):\n",
        "  \n",
        "  return tamanho\n",
        "\n",
        "#fraseA = \"abcd\"\n",
        "#fraseB = \"defg\"\n",
        "fraseA = input()\n",
        "fraseB = input()\n",
        "print(comparaStrings(fraseA, fraseB))"
      ],
      "execution_count": null,
      "outputs": []
    },
    {
      "cell_type": "code",
      "metadata": {
        "id": "jLkTy6c2R0yF",
        "outputId": "e79ec27b-e8c1-4c6f-8de7-d7759ce5910c",
        "colab": {
          "base_uri": "https://localhost:8080/",
          "height": 35
        }
      },
      "source": [
        "a = list(\"abcdef\")\n",
        "b = \"cdofhi\"\n",
        "\n",
        "print(b.find(str(a[2])))"
      ],
      "execution_count": null,
      "outputs": [
        {
          "output_type": "stream",
          "text": [
            "0\n"
          ],
          "name": "stdout"
        }
      ]
    },
    {
      "cell_type": "code",
      "metadata": {
        "id": "GcosmW3ltCwR"
      },
      "source": [
        "#1238\n",
        "def mesclaFrases(linhaA, linhaB):\n",
        "  tamanho = (len(linhaA) if len(linhaA)<=len(linhaB) else len(linhaB))\n",
        "  frase = \"\"\n",
        "  \n",
        "  for i in range(tamanho):\n",
        "    frase += linhaA[i]\n",
        "    frase += linhaB[i]\n",
        "  \n",
        "  if len(linhaB) > len(linhaA):\n",
        "    for j in range(tamanho,len(linhaB)):\n",
        "      frase += linhaB[j]\n",
        "  \n",
        "  if len(linhaA) > len(linhaB):\n",
        "    for k in range(tamanho,len(linhaA)):\n",
        "      frase += linhaA[k]\n",
        "  return frase\n",
        "casos = int(input())\n",
        "for i in range(casos):\n",
        "  fraseA, fraseB = list(input().split())\n",
        "  print(mesclaFrases(fraseA, fraseB))"
      ],
      "execution_count": null,
      "outputs": []
    },
    {
      "cell_type": "code",
      "metadata": {
        "id": "HsBlPpNttEGh"
      },
      "source": [
        "#1507\n",
        "def verificaSubString(mestra, consul):\n",
        "  encontrado = True\n",
        "  posicao = -1\n",
        "  for i in range(len(consul)):\n",
        "    posicao = mestra.find(consul[i], posicao+1)\n",
        "    #print(posicao)\n",
        "    #input(\"Teste:\")\n",
        "    if posicao <0:\n",
        "      return False\n",
        "    \n",
        "  return encontrado\n",
        "casos = int(input())\n",
        "for i in range(casos):\n",
        "  palavraMestra = input()\n",
        "  testes = int(input())\n",
        "  for j in range(testes):\n",
        "    consulta = input()\n",
        "    if verificaSubString(palavraMestra, consulta):\n",
        "      print(\"Yes\")\n",
        "    else:\n",
        "      print(\"No\")"
      ],
      "execution_count": null,
      "outputs": []
    },
    {
      "cell_type": "code",
      "metadata": {
        "id": "pk0WWIojtF-q",
        "outputId": "22bbc054-82c9-4385-a384-e16dcb69cbcd",
        "colab": {
          "base_uri": "https://localhost:8080/",
          "height": 87
        }
      },
      "source": [
        "#1609\n",
        "def carneirosDistintos(vals, fnTamanho):\n",
        "  distintos = []\n",
        "  for i in range(fnTamanho):\n",
        "    if vals[i] not in distintos:\n",
        "      distintos.append(x)\n",
        "  return len(distintos)\n",
        "\n",
        "casos = int(input())\n",
        "\n",
        "for i in range(casos):\n",
        "  tamanho = int(input())\n",
        "  carneiros = list(map(int,input().split()))\n",
        "  print(carneirosDistintos(carneiros, tamanho))"
      ],
      "execution_count": null,
      "outputs": [
        {
          "output_type": "stream",
          "text": [
            "1\n",
            "5\n",
            "1 2 3 4 2\n",
            "4\n"
          ],
          "name": "stdout"
        }
      ]
    },
    {
      "cell_type": "code",
      "metadata": {
        "id": "fhP-rLDwIHwH",
        "outputId": "ba3dba36-0715-4fbc-aeae-caaa5650a80e",
        "colab": {
          "base_uri": "https://localhost:8080/",
          "height": 52
        }
      },
      "source": [
        "#Remover duplicatas\n",
        "mylist = [\"a\", \"b\", \"a\", \"c\", \"c\"]\n",
        "print(dict.fromkeys(mylist))\n",
        "mylist = list(dict.fromkeys(mylist))\n",
        "print(mylist)"
      ],
      "execution_count": null,
      "outputs": [
        {
          "output_type": "stream",
          "text": [
            "{'a': None, 'b': None, 'c': None}\n",
            "['a', 'b', 'c']\n"
          ],
          "name": "stdout"
        }
      ]
    },
    {
      "cell_type": "code",
      "metadata": {
        "id": "HuHHXvIN4HNv",
        "outputId": "d04741ff-8516-4cbd-b690-6b87dec458bc",
        "colab": {
          "base_uri": "https://localhost:8080/",
          "height": 87
        }
      },
      "source": [
        "#1609\n",
        "def carneirosDistintos(vals):\n",
        "  vals.sort()\n",
        "  print(vals)\n",
        "\n",
        "  return None\n",
        "\n",
        "casos = int(input())\n",
        "for i in range(casos):\n",
        "  tamanho = int(input())\n",
        "  carneiros = list(map(int,input().split()))\n",
        "  carneiros = list(dict.fromkeys(carneiros))\n",
        "  print(len(carneiros))\n",
        "\n",
        "  "
      ],
      "execution_count": null,
      "outputs": [
        {
          "output_type": "stream",
          "text": [
            "1\n",
            "5\n",
            "1 2 3 2 1\n",
            "3\n"
          ],
          "name": "stdout"
        }
      ]
    },
    {
      "cell_type": "code",
      "metadata": {
        "id": "cJfC58aLtHsS"
      },
      "source": [
        "#1803\n",
        "def criaMatriz():\n",
        "  vals = []\n",
        "  linhas = 4\n",
        "  for lin in range(linhas):\n",
        "    numeros = str(input())\n",
        "    vals.append(numeros)\n",
        "  return vals\n",
        "\n",
        "def verificaCaracter(vals):\n",
        "  palavra = \"\"\n",
        "  colunas = len(vals[0])\n",
        "  linhas = len(vals)\n",
        "  \n",
        "  f = int(vals[0][0]+vals[1][0]+vals[2][0]+vals[3][0])\n",
        "  l = int(vals[0][colunas-1]+vals[1][colunas-1]+vals[2][colunas-1]+vals[3][colunas-1])\n",
        "\n",
        "  for j in range(1, colunas-1):\n",
        "    caracter = \"\"\n",
        "    for i in range(linhas):\n",
        "      caracter += vals[i][j]\n",
        "    palavra += f\"{chr(((f*int(caracter))+l)%257)}\"\n",
        "  print(palavra)\n",
        "  return None\n",
        "\n",
        "matring = criaMatriz()\n",
        "verificaCaracter(matring)\n",
        "\n"
      ],
      "execution_count": null,
      "outputs": []
    },
    {
      "cell_type": "code",
      "metadata": {
        "id": "Ue9HtNM9O3xq",
        "outputId": "f883eb4f-4b83-4efe-edf7-1493fc6331a8",
        "colab": {
          "base_uri": "https://localhost:8080/",
          "height": 34
        }
      },
      "source": [
        "#41805\n",
        "#99934\n",
        "#39127\n",
        "#23659\n",
        "#OBI\n",
        "numero1 = ((4*1)+5)%257\n",
        "numero2 = ((9*9)+4)%257\n",
        "numero3 = ((3*9)+7)%257\n",
        "numero4 = ((2*3)+9)%257\n",
        "\n",
        "numero5 = ((4*1993)+5)%257\n",
        "numero6 = \n",
        "numero7 = \n",
        "print(numero1, numero2, numero3, numero4)\n",
        "#print(numero5)\n",
        "#print(chr())\n",
        "#print(chr(numero1), chr(numero2), chr(numero3), chr(numero4))\n",
        "#print(chr(numero))"
      ],
      "execution_count": null,
      "outputs": [
        {
          "output_type": "stream",
          "text": [
            "9 85 34 15\n"
          ],
          "name": "stdout"
        }
      ]
    },
    {
      "cell_type": "code",
      "metadata": {
        "id": "WPzuHvEq6f09",
        "outputId": "a1df6ac5-eaee-4554-95a8-71734484d671",
        "colab": {
          "base_uri": "https://localhost:8080/",
          "height": 68
        }
      },
      "source": [
        "numero5 = ((4932*1993)+5479)%257\n",
        "print(chr(numero5))\n",
        "numero6 = ((4932*8916)+5479)%257\n",
        "print(chr(numero6))\n",
        "numero7 = ((4932*325)+5479)%257\n",
        "print(chr(numero7))"
      ],
      "execution_count": null,
      "outputs": [
        {
          "output_type": "stream",
          "text": [
            "O\n",
            "B\n",
            "I\n"
          ],
          "name": "stdout"
        }
      ]
    },
    {
      "cell_type": "code",
      "metadata": {
        "id": "ssjvXXrR4d-J",
        "outputId": "a948ae90-ca60-4860-fd38-c159e523f41a",
        "colab": {
          "base_uri": "https://localhost:8080/",
          "height": 34
        }
      },
      "source": [
        "palavra = \"Tiago\"\n",
        "lista = list(palavra[::-1])\n",
        "print(palavra, lista)"
      ],
      "execution_count": null,
      "outputs": [
        {
          "output_type": "stream",
          "text": [
            "Tiago ['o', 'g', 'a', 'i', 'T']\n"
          ],
          "name": "stdout"
        }
      ]
    },
    {
      "cell_type": "code",
      "metadata": {
        "id": "itHtj0sCeBdt",
        "outputId": "ec78270b-5dca-4f65-d026-6e8bb58cf813",
        "colab": {
          "base_uri": "https://localhost:8080/",
          "height": 51
        }
      },
      "source": [
        "a = [1, 2, 3, 4, 5]\n",
        "sliceObj = slice(1,5,1)\n",
        "print(sliceObj)\n",
        "a[sliceObj]"
      ],
      "execution_count": null,
      "outputs": [
        {
          "output_type": "stream",
          "text": [
            "slice(1, 5, 1)\n"
          ],
          "name": "stdout"
        },
        {
          "output_type": "execute_result",
          "data": {
            "text/plain": [
              "[2, 3, 4, 5]"
            ]
          },
          "metadata": {
            "tags": []
          },
          "execution_count": 57
        }
      ]
    },
    {
      "cell_type": "code",
      "metadata": {
        "id": "KZ082Lf2ehZw"
      },
      "source": [
        "a = [[1,2],[2,3],[2,1]]\n",
        "b = [1, 2, 3, 4, 5]\n",
        "print(a[0])\n",
        "print(b)\n",
        "print(b.find(a[0]))"
      ],
      "execution_count": null,
      "outputs": []
    }
  ]
}