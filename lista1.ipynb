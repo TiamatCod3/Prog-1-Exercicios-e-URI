{
  "nbformat": 4,
  "nbformat_minor": 0,
  "metadata": {
    "colab": {
      "name": "lista1.ipynb",
      "provenance": [],
      "collapsed_sections": [],
      "authorship_tag": "ABX9TyP3orK23llaxum/eZYtgJig",
      "include_colab_link": true
    },
    "kernelspec": {
      "name": "python3",
      "display_name": "Python 3"
    }
  },
  "cells": [
    {
      "cell_type": "markdown",
      "metadata": {
        "id": "view-in-github",
        "colab_type": "text"
      },
      "source": [
        "<a href=\"https://colab.research.google.com/github/TimatCod3/Prog-1---Exercicios-e-URI/blob/master/lista1.ipynb\" target=\"_parent\"><img src=\"https://colab.research.google.com/assets/colab-badge.svg\" alt=\"Open In Colab\"/></a>"
      ]
    },
    {
      "cell_type": "markdown",
      "metadata": {
        "id": "w8tBqD9P1Ccx"
      },
      "source": [
        "<table width=1600>\n",
        "<tr align=\"center\">\n",
        "<th >#</th>\n",
        "<th>CODIGO</th>\n",
        "<th>PROBLEMA</th>\t\n",
        "<th>SUBMISSÃO</th>\t\n",
        "<th>ACEITO</th>\t\n",
        "<th>NÍVEL\t</th>\n",
        "<th>PESO</th></tr>\n",
        "<tr align=\"center\">\n",
        "  <td>1</td>\t\n",
        "  <td>\n",
        "  <a href=\"https://www.urionlinejudge.com.br/judge/pt/problems/view/1018\">1018</a></td>\n",
        "  <td>Cédulas</td><td>-</td><td>-</td><td>4</td><td>100</td></tr>\n",
        "<tr align=\"center\">\n",
        "  <td>2</td>\t\n",
        "  <td>\n",
        "  <a href=\"https://www.urionlinejudge.com.br/judge/pt/problems/view/1047\">1047</a></td>\n",
        "  <td>\tTempo de Jogo com Minutos</td><td>-</td><td>-</td><td>9</td><td>100</td></tr>\n",
        "<tr align=\"center\">\n",
        "  <td>3</td>\t\n",
        "  <td>\n",
        "  <a href=\"https://www.urionlinejudge.com.br/judge/pt/problems/view/1072\">1072</a></td>\n",
        "  <td>Intervalo 2</td><td><a href=\"#scrollTo=uMO1ufjRzq7Y\">Resolução</a></td><td>-</td><td>1</td><td>100</td></tr>\n",
        "\n",
        "<tr>\n",
        "<tr align=\"center\">\n",
        "  <td>4</td>\t\n",
        "  <td>\n",
        "  <a href=\"https://www.urionlinejudge.com.br/judge/pt/problems/view/1117\">1117</a></td>\n",
        "  <td>Validação de Nota</td><td>-</td><td>-</td><td>1</td><td>100</td></tr>\n",
        "\n",
        "<tr align=\"center\">\n",
        "  <td>5</td>\t\n",
        "  <td>\n",
        "  <a href=\"https://www.urionlinejudge.com.br/judge/pt/problems/view/1157\">1157</a></td>\n",
        "  <td>Divisores I</td><td>-</td><td>-</td><td>1</td><td>100</td></tr>\n",
        "<tr align=\"center\">\n",
        "  <td>6</td>\t\n",
        "  <td>\n",
        "  <a href=\"https://www.urionlinejudge.com.br/judge/pt/problems/view/1171\">1171</a></td>\n",
        "  <td>Frequência de Números</td><td>-</td><td>-</td><td>3</td><td>100</td></tr>\n",
        "<tr align=\"center\">\n",
        "  <td>7</td>\t\n",
        "  <td>\n",
        "  <a href=\"https://www.urionlinejudge.com.br/judge/pt/problems/view/1172\">1172</a></td>\n",
        "  <td>Substituição em Vetor I</td><td>-</td><td>-</td><td>1</td><td>100</td></tr>\n",
        "<tr align=\"center\">\n",
        "  <td>8</td>\t\n",
        "  <td>\n",
        "  <a href=\"https://www.urionlinejudge.com.br/judge/pt/problems/view/1173\">1173</a></td>\n",
        "  <td>Preenchimento de Vetor I</td><td>-</td><td>-</td><td>1</td><td>100</td></tr>\n",
        "<tr align=\"center\">\n",
        "  <td>9</td>\t\n",
        "  <td>\n",
        "  <a href=\"https://www.urionlinejudge.com.br/judge/pt/problems/view/1174\">1174</a></td>\n",
        "  <td>Seleçao em Vetor I</td><td>-</td><td>-</td><td>1</td><td>100</td></tr>\n",
        " <tr align=\"center\">\n",
        "  <td>10</td>\t\n",
        "  <td>\n",
        "  <a href=\"https://www.urionlinejudge.com.br/judge/pt/problems/view/1175\">1175</a></td>\n",
        "  <td>Troca em Vetor I</td><td>-</td><td>-</td><td>2</td><td>100</td></tr>\n",
        "\n",
        " <tr align=\"center\">\n",
        "  <td>11</td>\t\n",
        "  <td>\n",
        "  <a href=\"https://www.urionlinejudge.com.br/judge/pt/problems/view/1176\">1176</a></td>\n",
        "  <td>Fibonacci em Vetor</td><td>-</td><td>-</td><td>2</td><td>100</td></tr>\n",
        "<tr align=\"center\">\n",
        "  <td>12</td>\t\n",
        "  <td>\n",
        "  <a href=\"https://www.urionlinejudge.com.br/judge/pt/problems/view/1179\">1179</a></td>\n",
        "  <td>Preenchimento de Vetor IV</td><td>-</td><td>-</td><td>2</td><td>100</td></tr>\n",
        "\n",
        "\n",
        "<tr><td>\n",
        " 12\t1179\t\tPreenchimento de Vetor IV\t-\t-\t2\t100</td><td>\n",
        "  13\t1180\t\tMenor e Posição\t-\t-\t3\t100</td><td>\n",
        "  14\t1181\t\tLinha na Matriz\t-\t-\t3\t100</td><td>\n",
        "  15\t1182\t\tColuna na Matriz\t-\t-\t2\t100</td><td>\n",
        "  16\t1183\t\tAcima da Diagonal Principal\t-\t-\t4\t100</td><td>\n",
        "  17\t1255\t\tFrequência de Letras\t-\t-\t3\t100</td><td>\n",
        "  18\t1478\t\tMatriz Quadrada II\t-\t-\t1\t100</td><td>\n",
        "  19\t1847\t\tBem-vindos e Bem-vindas ao Inverno!\t-\t-\t4\t100</td><td>\n",
        "  \n",
        "  <tr align=\"center\">\n",
        "  <td>20</td>\t\n",
        "  <td>\n",
        "  <a href=\"https://www.urionlinejudge.com.br/judge/pt/problems/view/2164\">2164</a></td>\n",
        "  <td>Fibonacci em Vetor</td><td>-</td><td>-</td><td>2</td><td>100</td></tr>\n",
        "\n",
        "<tr>\n",
        "  </td></tr></table>\n"
      ]
    },
    {
      "cell_type": "code",
      "metadata": {
        "id": "0LItICKqCxFP",
        "outputId": "97356d28-1470-4cb9-959f-72739fec77ab",
        "colab": {
          "base_uri": "https://localhost:8080/",
          "height": 170
        }
      },
      "source": [
        "#1018\n",
        "valor = int(input())\n",
        "\n",
        "print(valor)\n",
        "\n",
        "notas100= (valor//100)\n",
        "valor %= 100\n",
        "\n",
        "notas50 = (valor//50)\n",
        "valor %= 50\n",
        "\n",
        "notas20 = (valor//20)\n",
        "valor %=20\n",
        "\n",
        "notas10 = (valor//10)\n",
        "valor %=10\n",
        "\n",
        "notas5 = (valor//5)\n",
        "valor %=5\n",
        "  \n",
        "notas2 = (valor//2)\n",
        "valor %=2\n",
        "\n",
        "notas1 = (valor//1)\n",
        "\n",
        "\n",
        "\n",
        "print(\"{} nota(s) de R$ 100,00\".format(notas100))\n",
        "print(\"{} nota(s) de R$ 50,00\".format(notas50))\n",
        "print(\"{} nota(s) de R$ 20,00\".format(notas20))\n",
        "print(\"{} nota(s) de R$ 10,00\".format(notas10))\n",
        "print(\"{} nota(s) de R$ 5,00\".format(notas5))\n",
        "print(\"{} nota(s) de R$ 2,00\".format(notas2))\n",
        "print(\"{} nota(s) de R$ 1,00\".format(notas1))"
      ],
      "execution_count": null,
      "outputs": [
        {
          "output_type": "stream",
          "text": [
            "9999\n",
            "9999\n",
            "99 nota(s) de R$ 100,00\n",
            "1 nota(s) de R$ 50,00\n",
            "2 nota(s) de R$ 20,00\n",
            "0 nota(s) de R$ 10,00\n",
            "1 nota(s) de R$ 5,00\n",
            "2 nota(s) de R$ 2,00\n",
            "0 nota(s) de R$ 1,00\n"
          ],
          "name": "stdout"
        }
      ]
    },
    {
      "cell_type": "code",
      "metadata": {
        "id": "n41W0Nt3dj0y",
        "outputId": "d44291ad-0b59-4a09-c35c-a0eafee845d3",
        "colab": {
          "base_uri": "https://localhost:8080/",
          "height": 51
        }
      },
      "source": [
        "#1047\n",
        "horaInicial, minutoInicial, horaFinal, minutoFinal = map(int,input().split())\n",
        "\n",
        "if (horaFinal == horaInicial and minutoFinal<=minutoInicial) or (horaFinal<horaInicial):\n",
        "  horaFinal +=24\n",
        "\n",
        "\n",
        "tempoMinutos = ((horaFinal-horaInicial)*60)+(minutoFinal-minutoInicial)\n",
        "tempoHoras = tempoMinutos//60\n",
        "tempoMinutos %= 60\n",
        "\n",
        "print(\"O JOGO DUROU {} HORA(S) E {} MINUTO(S)\".format(tempoHoras,tempoMinutos))\n",
        "\n"
      ],
      "execution_count": null,
      "outputs": [
        {
          "output_type": "stream",
          "text": [
            "10 10 10 08\n",
            "O JOGO DUROU 23 HORA(S) E 58 MINUTO(S)\n"
          ],
          "name": "stdout"
        }
      ]
    },
    {
      "cell_type": "code",
      "metadata": {
        "id": "uMO1ufjRzq7Y",
        "outputId": "37d14f1a-5e0c-45d3-9791-0b93f590c1fb",
        "colab": {
          "base_uri": "https://localhost:8080/",
          "height": 153
        }
      },
      "source": [
        "#1072\n",
        "#subPrograma\n",
        "def entraNumero():\n",
        "  num = int(input())\n",
        "  return num\n",
        "\n",
        "totalInteiros = int(input())\n",
        "\n",
        "numeroIn = 0\n",
        "numeroOut = 0\n",
        "\n",
        "for numero in range(totalInteiros):\n",
        "  if 10 <=entraNumero()<=20:\n",
        "    numeroIn +=1\n",
        "  else:\n",
        "    numeroOut+=1\n",
        "\n",
        "print(\"{} in\".format(numeroIn))\n",
        "print(\"{} out\".format(numeroOut))\n",
        " "
      ],
      "execution_count": null,
      "outputs": [
        {
          "output_type": "stream",
          "text": [
            "5\n",
            "-1\n",
            "3\n",
            "10\n",
            "11\n",
            "21\n",
            "2 in\n",
            "3 out\n"
          ],
          "name": "stdout"
        }
      ]
    },
    {
      "cell_type": "code",
      "metadata": {
        "id": "SVLt2Mot9S5L",
        "outputId": "97054c6a-3257-4e77-b8ee-49b8d82ba3a3",
        "colab": {
          "base_uri": "https://localhost:8080/",
          "height": 136
        }
      },
      "source": [
        "#1072\n",
        "#subPrograma\n",
        "def lerEntrada():\n",
        "  entrada = int(input())\n",
        "  return entrada\n",
        "\n",
        "def verificaNumero(fnTotalInteiros, fnNumeroIn, fnNumeroOut):\n",
        "  for numero in range(totalInteiros):\n",
        "    if 10 <=lerEntrada()<=20:\n",
        "      fnNumeroIn +=1\n",
        "    else:\n",
        "      fnNumeroOut+=1\n",
        "  return fnNumeroIn, fnNumeroOut\n",
        "\n",
        "def imprimeValores(imprimeIn, imprimeOut):\n",
        "  print(\"{} in\".format(imprimeIn))\n",
        "  print(\"{} out\".format(imprimeOut))\n",
        "  return None\n",
        "\n",
        "#Programa Principal\n",
        "totalInteiros = int(input())\n",
        "\n",
        "numeroIn = 0\n",
        "numeroOut = 0\n",
        "\n",
        "numeroIn, numeroOut = verificaNumero(totalInteiros, numeroIn, numeroOut)\n",
        "imprimeValores(numeroIn, numeroOut)\n",
        "\n",
        "\n",
        "\n",
        "\n"
      ],
      "execution_count": null,
      "outputs": [
        {
          "output_type": "stream",
          "text": [
            "4\n",
            "5\n",
            "10\n",
            "15\n",
            "-20\n",
            "2 in\n",
            "2 out\n"
          ],
          "name": "stdout"
        }
      ]
    },
    {
      "cell_type": "code",
      "metadata": {
        "id": "pVJWT65VA7MO",
        "outputId": "3ffc4ed8-46a3-497b-90fa-dfed9d81b89f",
        "colab": {
          "base_uri": "https://localhost:8080/",
          "height": 170
        }
      },
      "source": [
        "#1117\n",
        "#SubPrograma\n",
        "\n",
        "def lerNota():\n",
        "  notaLida = float(input())\n",
        "  return notaLida\n",
        "\n",
        "def validaNota(valNota):\n",
        "  if 0<=valNota<=10:\n",
        "    return True\n",
        "  else:\n",
        "    print(\"nota invalida\")\n",
        "    return False\n",
        "\n",
        "nota = []\n",
        "media = 0\n",
        "\n",
        "while len(nota)<2:\n",
        "  \n",
        "  tempNota = lerNota()\n",
        "\n",
        "  if validaNota(tempNota):\n",
        "    nota.append(tempNota)\n",
        "\n",
        "  \n",
        "media = ((nota[0]+nota[1])/2)\n",
        "print(\"media = {:.2f}\".format(media))\n",
        "\n"
      ],
      "execution_count": null,
      "outputs": [
        {
          "output_type": "stream",
          "text": [
            "10\n",
            "11\n",
            "nota invalida\n",
            "12\n",
            "nota invalida\n",
            "13\n",
            "nota invalida\n",
            "5\n",
            "media = 7.50\n"
          ],
          "name": "stdout"
        }
      ]
    },
    {
      "cell_type": "code",
      "metadata": {
        "id": "0mVjOHQJGbfe",
        "outputId": "1a5390f0-9429-490b-dd4e-de6dce3d1330",
        "colab": {
          "base_uri": "https://localhost:8080/",
          "height": 69
        }
      },
      "source": [
        "#1176\n",
        "#SubProgramas\n",
        "def lerEntrada():\n",
        "  funEntrada = int(input())\n",
        "  return funEntrada\n",
        "\n",
        "def gerarFibonacci(funIndice):\n",
        "  numeroFibonacci = []\n",
        "  numeroFibonacci.append(0)\n",
        "  numeroFibonacci.append(1)\n",
        "\n",
        "  for numero in range(2,funIndice+1):\n",
        "    numeroFibonacci.append(numeroFibonacci[numero-1]+numeroFibonacci[numero-2])\n",
        "\n",
        "  return numeroFibonacci[funIndice]\n",
        "\n",
        "#ProgramaPrincipal\n",
        "\n",
        "totalEntradas = int(input())\n",
        "\n",
        "for indice in range(totalEntradas):\n",
        "  indice = lerEntrada()\n",
        "  print(\"Fib({}) = {}\".format(indice,gerarFibonacci(indice)))\n",
        "\n",
        "\n"
      ],
      "execution_count": null,
      "outputs": [
        {
          "output_type": "stream",
          "text": [
            "1\n",
            "50\n",
            "Fib(50) = 12586269025\n"
          ],
          "name": "stdout"
        }
      ]
    },
    {
      "cell_type": "code",
      "metadata": {
        "id": "ZIW8PZLiSiyX",
        "outputId": "9ceefac2-282a-4408-f8ed-5f30ca1db8b3",
        "colab": {
          "base_uri": "https://localhost:8080/",
          "height": 102
        }
      },
      "source": [
        "#1157\n",
        "#SubPrograma\n",
        "def verificaDivisores(fnNumero):\n",
        "  for divisor in range(1,fnNumero+1):\n",
        "    if fnNumero%divisor==0:\n",
        "      print(divisor)\n",
        "\n",
        "#ProgramaPrincipal\n",
        "numero = int(input())\n",
        "\n",
        "verificaDivisores(numero)\n",
        "\n",
        "\n"
      ],
      "execution_count": null,
      "outputs": [
        {
          "output_type": "stream",
          "text": [
            "10\n",
            "1\n",
            "2\n",
            "5\n",
            "10\n"
          ],
          "name": "stdout"
        }
      ]
    },
    {
      "cell_type": "code",
      "metadata": {
        "id": "R_yQUDSod61s",
        "outputId": "d9f39245-024d-41c2-9a80-259c7fefbbe3",
        "colab": {
          "base_uri": "https://localhost:8080/",
          "height": 191
        }
      },
      "source": [
        "#1171 - 0.701s\n",
        "#SubPrograma\n",
        "def lerEntrada():\n",
        "  entrada = int(input())\n",
        "  return entrada\n",
        "\n",
        "def criaLista(fnTotalEntradas):\n",
        "  fnLista = []\n",
        "  for fnNumeros in range(fnTotalEntradas):\n",
        "    fnLista.append(lerEntrada())\n",
        "  list.sort(fnLista)\n",
        "  return fnLista\n",
        "\n",
        "def verificaUnicos(fnEntradas):\n",
        "  listaUnica = []\n",
        "  for indice in range(0,len(fnEntradas)):\n",
        "    if not fnEntradas[indice] in listaUnica:\n",
        "      listaUnica.append(fnEntradas[indice])\n",
        "  return listaUnica\n",
        "\n",
        "def contarOcorrencias(lstEntradas,lstUnicos):\n",
        "  for item in range(len(lstUnicos)):\n",
        "    fnNumero = lstUnicos[item]\n",
        "    fnTotal = lstEntradas.count(fnNumero)\n",
        "    print(f\"{fnNumero} aparece {fnTotal} vez(es)\")\n",
        "\n",
        "#Programa Principal\n",
        "totalEntradas = lerEntrada()\n",
        "entradas = criaLista(totalEntradas)\n",
        "itensUnicos = verificaUnicos(entradas)\n",
        "contarOcorrencias(entradas, itensUnicos)\n",
        "\n",
        "\n",
        "\n"
      ],
      "execution_count": null,
      "outputs": [
        {
          "output_type": "stream",
          "text": [
            "5\n",
            "4\n",
            "3\n",
            "4\n",
            "1\n",
            "2\n",
            "1 aparece 1 vez(es)\n",
            "2 aparece 1 vez(es)\n",
            "3 aparece 1 vez(es)\n",
            "4 aparece 2 vez(es)\n"
          ],
          "name": "stdout"
        }
      ]
    },
    {
      "cell_type": "code",
      "metadata": {
        "id": "52TFm8C3t-5v",
        "outputId": "33ec94b8-4a27-4ea1-a969-3c072faf313a",
        "colab": {
          "base_uri": "https://localhost:8080/",
          "height": 121
        }
      },
      "source": [
        "#1171 - 0.333s\n",
        "#SubPrograma\n",
        "def lerEntrada():\n",
        "  entrada = int(input())\n",
        "  return entrada\n",
        "\n",
        "def criaLista(fnTotalEntradas):\n",
        "  fnLista = []\n",
        "  for fnNumeros in range(fnTotalEntradas):\n",
        "    fnLista.append(lerEntrada())\n",
        "  list.sort(fnLista)\n",
        "  return fnLista\n",
        "\n",
        "def verificaUnicos(fnEntradas, fnTotalEntradas):\n",
        "  listaUnica = []\n",
        "  \n",
        "  for indice in range(0,fnTotalEntradas):\n",
        "    if not fnEntradas[indice] in listaUnica:\n",
        "      listaUnica.append(fnEntradas[indice])\n",
        "  return listaUnica\n",
        "\n",
        "def contarOcorrencias(lstEntradas,lstUnicos):\n",
        "  tamanhoUnicos = len(lstUnicos)\n",
        "  for item in range(tamanhoUnicos):\n",
        "    fnNumero = lstUnicos[item]\n",
        "    fnTotal = lstEntradas.count(fnNumero)\n",
        "    print(f\"{fnNumero} aparece {fnTotal} vez(es)\")\n",
        "\n",
        "#Programa Principal\n",
        "totalEntradas = lerEntrada()\n",
        "entradas = criaLista(totalEntradas)\n",
        "itensUnicos = verificaUnicos(entradas,totalEntradas)\n",
        "contarOcorrencias(entradas, itensUnicos)\n",
        "\n",
        "\n"
      ],
      "execution_count": null,
      "outputs": [
        {
          "output_type": "stream",
          "text": [
            "3\n",
            "4\n",
            "4\n",
            "5\n",
            "4 aparece 2 vez(es)\n",
            "5 aparece 1 vez(es)\n"
          ],
          "name": "stdout"
        }
      ]
    },
    {
      "cell_type": "code",
      "metadata": {
        "id": "kV9-o_L_kXWS",
        "outputId": "6fb04631-69a2-435a-8873-cf9d967da54a",
        "colab": {
          "base_uri": "https://localhost:8080/",
          "height": 52
        }
      },
      "source": [
        "#2164\n",
        "#SubPrograma\n",
        "def lerEntrada():\n",
        "  entrada = float(input())\n",
        "  return entrada\n",
        "\n",
        "#Programa Principal\n",
        "indice = lerEntrada()\n",
        "raiz5 = 5**0.5\n",
        "expressao1 = float((1+raiz5)/2)**(indice)\n",
        "expressao2 = float((1-raiz5)/2)**(indice)\n",
        "numeroFibonacci = (expressao1-expressao2)/(raiz5)\n",
        "\n",
        "print(f\"{numeroFibonacci:.1f}\")\n",
        "\n",
        "\n"
      ],
      "execution_count": null,
      "outputs": [
        {
          "output_type": "stream",
          "text": [
            "50\n",
            "12586269025.0\n"
          ],
          "name": "stdout"
        }
      ]
    },
    {
      "cell_type": "code",
      "metadata": {
        "id": "7FV4RildebtC",
        "outputId": "d8f090af-8fee-4a9a-fe51-961d9b0c5ce0",
        "colab": {
          "base_uri": "https://localhost:8080/",
          "height": 364
        }
      },
      "source": [
        "#1172\n",
        "#SubPrograma\n",
        "def lerEntrada():\n",
        "  entrada = int(input())\n",
        "  return entrada\n",
        "\n",
        "def constroiMatriz(fnTamanho):\n",
        "  lstX = []\n",
        "  for i in range(fnTamanho):\n",
        "    lstX.append(lerEntrada())\n",
        "  return lstX\n",
        "\n",
        "def substituiLista(lstAntiga, fnTamanho):\n",
        "  for indice in range(fnTamanho):\n",
        "    if lstAntiga[indice]<=0:\n",
        "      lstAntiga[indice] = 1\n",
        "\n",
        "  return lstAntiga\n",
        "  \n",
        "def imprimeListaNova(lstAtualizada, fnTamanho):\n",
        "  for indice in range(fnTamanho):\n",
        "    print(f\"X[{indice}] = {lstAtualizada[indice]}\")\n",
        "  return None\n",
        "\n",
        "  \n",
        "\n",
        "\n",
        "#Programa Principal\n",
        "tamanhoLista = 10\n",
        "listaNumeros = constroiMatriz(tamanhoLista) #cria a lista\n",
        "listaSubstituida = substituiLista(listaNumeros, tamanhoLista) # substitui todos os numeros que são 0 ou negativos por 1\n",
        "imprimeListaNova(listaSubstituida, tamanhoLista)\n"
      ],
      "execution_count": null,
      "outputs": [
        {
          "output_type": "stream",
          "text": [
            "1\n",
            "2\n",
            "-3\n",
            "-4\n",
            "-5\n",
            "-6\n",
            "0\n",
            "1\n",
            "2\n",
            "3\n",
            "X[0] = 1\n",
            "X[1] = 2\n",
            "X[2] = 1\n",
            "X[3] = 1\n",
            "X[4] = 1\n",
            "X[5] = 1\n",
            "X[6] = 1\n",
            "X[7] = 1\n",
            "X[8] = 2\n",
            "X[9] = 3\n"
          ],
          "name": "stdout"
        }
      ]
    },
    {
      "cell_type": "code",
      "metadata": {
        "id": "mdvTGQUUqHX7",
        "outputId": "8b600c8f-e1b6-438b-c48c-2cb24e01e2f3",
        "colab": {
          "base_uri": "https://localhost:8080/",
          "height": 208
        }
      },
      "source": [
        "#1173\n",
        "#SubPrograma\n",
        "def lerEntrada():\n",
        "  entrada = int(input())\n",
        "  return entrada\n",
        "\n",
        "def criaListaDobrada(fnEntrada,fnTamanho):\n",
        "  lstDobrada = [fnEntrada]\n",
        "  for indice in range(1,fnTamanho):\n",
        "    lstDobrada.append(lstDobrada[indice-1]*2)\n",
        "  return lstDobrada\n",
        "\n",
        "def imprimeListaNova(lstAtualizada, fnTamanho):\n",
        "  for indice in range(fnTamanho):\n",
        "    print(f\"N[{indice}] = {lstAtualizada[indice]}\")\n",
        "  return None\n",
        "\n",
        "#Programa\n",
        "tamanhoLista = 10\n",
        "listaDobrada = criaListaDobrada(lerEntrada(),tamanhoLista)\n",
        "imprimeListaNova(listaDobrada,tamanhoLista)\n"
      ],
      "execution_count": null,
      "outputs": [
        {
          "output_type": "stream",
          "text": [
            "1\n",
            "N[0] = 1\n",
            "N[1] = 2\n",
            "N[2] = 4\n",
            "N[3] = 8\n",
            "N[4] = 16\n",
            "N[5] = 32\n",
            "N[6] = 64\n",
            "N[7] = 128\n",
            "N[8] = 256\n",
            "N[9] = 512\n"
          ],
          "name": "stdout"
        }
      ]
    },
    {
      "cell_type": "code",
      "metadata": {
        "id": "KImljeTJvCEV",
        "outputId": "a39cf48c-336d-44b6-d771-d15e8f3a633b",
        "colab": {
          "base_uri": "https://localhost:8080/",
          "height": 191
        }
      },
      "source": [
        "#1174\n",
        "#SubPrograma\n",
        "def lerEntrada():\n",
        "  entrada = int(input())\n",
        "  return entrada\n",
        "\n",
        "def criaLista(fnTamanho):\n",
        "  lstNova = []\n",
        "  for indice in range(fnTamanho):\n",
        "    lstNova.append(int(lerEntrada()))\n",
        "  return lstNova\n",
        "\n",
        "def imprimeListaNova(lstNova, fnTamanho):\n",
        "  for indice in range(fnTamanho):\n",
        "    if lstNova[indice]<=10:\n",
        "      print(f\"A[{indice}] = {lstNova[indice]:.1f}\")\n",
        "  return None\n",
        "\n",
        "#Programa\n",
        "tamanhoLista = 5\n",
        "novaLista = criaLista(tamanhoLista)\n",
        "imprimeListaNova(novaLista, tamanhoLista)\n"
      ],
      "execution_count": null,
      "outputs": [
        {
          "output_type": "stream",
          "text": [
            "2\n",
            "3\n",
            "4\n",
            "5\n",
            "6\n",
            "A[0] = 2.0\n",
            "A[1] = 3.0\n",
            "A[2] = 4.0\n",
            "A[3] = 5.0\n",
            "A[4] = 6.0\n"
          ],
          "name": "stdout"
        }
      ]
    },
    {
      "cell_type": "code",
      "metadata": {
        "id": "_gaDWNy2E78E"
      },
      "source": [
        "#1174\n",
        "#SubPrograma\n",
        "def lerEntrada():\n",
        "  entrada = float(input())\n",
        "  return entrada\n",
        "\n",
        "def criaLista(fnTamanho):\n",
        "  lstNova = []\n",
        "  for indice in range(fnTamanho):\n",
        "    lstNova.append(lerEntrada())\n",
        "  return lstNova\n",
        "\n",
        "def imprimeListaNova(lstNova, fnTamanho):\n",
        "  for indice in range(fnTamanho):\n",
        "    if lstNova[indice]<=10:\n",
        "      print(f\"A[{indice}] = {lstNova[indice]:.1f}\")\n",
        "  return None\n",
        "\n",
        "#Programa\n",
        "tamanhoLista = 100\n",
        "novaLista = criaLista(tamanhoLista)\n",
        "imprimeListaNova(novaLista, tamanhoLista)"
      ],
      "execution_count": null,
      "outputs": []
    },
    {
      "cell_type": "code",
      "metadata": {
        "id": "gCL9tx2lM7Sj",
        "outputId": "c0d62bd7-6c1c-4082-ce68-f9e142c39d58",
        "colab": {
          "base_uri": "https://localhost:8080/",
          "height": 156
        }
      },
      "source": [
        "#1175\n",
        "#SubPrograma\n",
        "def lerEntrada():\n",
        "  entrada = int(input())\n",
        "  return entrada\n",
        "\n",
        "def criaLista(fnTamanho):\n",
        "  lstEntrada=[]\n",
        "  for indice in range(fnTamanho):\n",
        "    lstEntrada.append(lerEntrada())\n",
        "  return lstEntrada\n",
        "    \n",
        "def trocaItem(lstCriada,fnTamanho):\n",
        "  for indice in range(fnTamanho//2):\n",
        "    numero1 = lstCriada[indice]\n",
        "    numero2 = lstCriada[fnTamanho-indice-1]\n",
        "    lstCriada[indice] = numero2\n",
        "    lstCriada[fnTamanho-indice-1] =numero1\n",
        "  \n",
        "  return lstCriada\n",
        "\n",
        "def imprimeLista(lstTrocada, fnTamanho):\n",
        "  for indice in range (fnTamanho):\n",
        "    print(f\"N[{indice}] = {lstTrocada[indice]}\")\n",
        "\n",
        "#Programa\n",
        "tamanhoLista = 20\n",
        "listaCriada = criaLista(tamanhoLista)\n",
        "listaTrocada = trocaItem(listaCriada,tamanhoLista)\n",
        "imprimeLista(listaTrocada,tamanhoLista)\n",
        "\n"
      ],
      "execution_count": null,
      "outputs": [
        {
          "output_type": "stream",
          "text": [
            "2\n",
            "3\n",
            "4\n",
            "5\n",
            "N[0] = 5\n",
            "N[1] = 4\n",
            "N[2] = 3\n",
            "N[3] = 2\n"
          ],
          "name": "stdout"
        }
      ]
    },
    {
      "cell_type": "markdown",
      "metadata": {
        "id": "YkdN4rxBTkoE"
      },
      "source": [
        "Neste problema você deverá ler 15 valores colocá-los em 2 vetores conforme estes valores forem pares ou ímpares. Só que o tamanho de cada um dos dois vetores é de 5 posições. Então, cada vez que um dos dois vetores encher, você deverá imprimir todo o vetor e utilizá-lo novamente para os próximos números que forem lidos. Terminada a leitura, deve-se imprimir o conteúdo que restou em cada um dos dois vetores, imprimindo primeiro os valores do vetor impar. Cada vetor pode ser preenchido tantas vezes quantas for necessário.\n",
        "\n",
        "Entrada\n",
        "A entrada contém 15 números inteiros.\n",
        "\n",
        "Saída\n",
        "Imprima a saída conforme o exemplo abaixo."
      ]
    },
    {
      "cell_type": "code",
      "metadata": {
        "id": "7NuOswKWTkx9",
        "outputId": "a9662f38-4370-491e-e8df-3d820c0ce5e9",
        "colab": {
          "base_uri": "https://localhost:8080/",
          "height": 537
        }
      },
      "source": [
        "#1179\n",
        "#SubProgramas\n",
        "def lerEntrada():\n",
        "  entrada = int(input())\n",
        "  return entrada\n",
        "\n",
        "def verificaParImpar(fnNumero):\n",
        "  if fnNumero%2==0:\n",
        "    return 0\n",
        "  else:\n",
        "    return 1\n",
        "\n",
        "def criaLista(fnTamanho, fnTamanhoMaximo, lstContagem):\n",
        "  listas = [[],[]]\n",
        " \n",
        "  for indice in range(fnTamanho):\n",
        "    numero = lerEntrada()\n",
        "    tipo = verificaParImpar(numero)\n",
        "    listas[tipo].append(numero)\n",
        "    lstContagem[tipo]+=1\n",
        "    if lstContagem[tipo]==fnTamanhoMaximo:\n",
        "      imprimeLista(listas[tipo],tipo,lstContagem[tipo])\n",
        "      lstContagem[tipo]=0\n",
        "      listas[tipo].clear()\n",
        "\n",
        "  if lstContagem[1]>0:\n",
        "    tipo = 1\n",
        "    imprimeLista(listas[tipo], tipo, lstContagem[tipo])\n",
        "  if lstContagem[0]>0:\n",
        "    tipo = 0\n",
        "    imprimeLista(listas[tipo], tipo, lstContagem[tipo])\n",
        " \n",
        "\n",
        "  return None\n",
        "\n",
        "def imprimeLista(lstCriada,tipoLista,lstContagem):\n",
        "  dicTipo = {0:\"par\", 1:\"impar\"}\n",
        "  for indice in range(lstContagem):\n",
        "    print(f\"{dicTipo[tipoLista]}[{indice}] = {lstCriada[indice]}\")\n",
        "  return None\n",
        "\n",
        "#Programa Principal\n",
        "tamanhoEntrada = 15\n",
        "maximoPorVetor = 5\n",
        "contagem = [0,0]\n",
        "criaLista(tamanhoEntrada,maximoPorVetor,contagem)\n",
        "\n",
        "\n",
        "\n",
        "\n",
        "\n",
        "\n"
      ],
      "execution_count": null,
      "outputs": [
        {
          "output_type": "stream",
          "text": [
            "1\n",
            "3\n",
            "4\n",
            "-4\n",
            "2\n",
            "3\n",
            "8\n",
            "2\n",
            "par[0] = 4\n",
            "par[1] = -4\n",
            "par[2] = 2\n",
            "par[3] = 8\n",
            "par[4] = 2\n",
            "5\n",
            "-7\n",
            "impar[0] = 1\n",
            "impar[1] = 3\n",
            "impar[2] = 3\n",
            "impar[3] = 5\n",
            "impar[4] = -7\n",
            "54\n",
            "76\n",
            "789\n",
            "23\n",
            "98\n",
            "impar[0] = 789\n",
            "impar[1] = 23\n",
            "par[0] = 54\n",
            "par[1] = 76\n",
            "par[2] = 98\n"
          ],
          "name": "stdout"
        }
      ]
    }
  ]
}